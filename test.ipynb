{
 "cells": [
  {
   "cell_type": "code",
   "execution_count": 2,
   "id": "3ac25b98",
   "metadata": {},
   "outputs": [
    {
     "name": "stdout",
     "output_type": "stream",
     "text": [
      "Shape: (128, 128, 7)\n",
      "Size: 114688\n",
      "Data type: float32\n"
     ]
    }
   ],
   "source": [
    "import numpy as np\n",
    "\n",
    "data = np.load('/n/netscratch/zickler_lab/Lab/linbo/stereo_project/generated_shapes_10k/fields/one_object_0_field.npy')\n",
    "\n",
    "print(\"Shape:\", data.shape)\n",
    "print(\"Size:\", data.size)\n",
    "print(\"Data type:\", data.dtype)\n"
   ]
  },
  {
   "cell_type": "code",
   "execution_count": null,
   "id": "370fcb8a",
   "metadata": {},
   "outputs": [],
   "source": []
  }
 ],
 "metadata": {
  "kernelspec": {
   "display_name": "boundary_attention",
   "language": "python",
   "name": "python3"
  },
  "language_info": {
   "codemirror_mode": {
    "name": "ipython",
    "version": 3
   },
   "file_extension": ".py",
   "mimetype": "text/x-python",
   "name": "python",
   "nbconvert_exporter": "python",
   "pygments_lexer": "ipython3",
   "version": "3.10.16"
  }
 },
 "nbformat": 4,
 "nbformat_minor": 5
}
